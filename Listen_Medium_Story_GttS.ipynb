{
 "cells": [
  {
   "cell_type": "markdown",
   "id": "062935b7",
   "metadata": {},
   "source": [
    "# Listen to your drafts using Python.\n",
    "\n"
   ]
  },
  {
   "cell_type": "markdown",
   "id": "36045b01",
   "metadata": {},
   "source": [
    "## Make Your Life Easier as a Medium Writer"
   ]
  },
  {
   "cell_type": "code",
   "execution_count": 15,
   "id": "a21dff8b",
   "metadata": {},
   "outputs": [
    {
     "name": "stdout",
     "output_type": "stream",
     "text": [
      "Requirement already satisfied: gtts in c:\\users\\red\\appdata\\local\\programs\\python\\python310\\lib\\site-packages (2.2.3)\n",
      "Requirement already satisfied: requests in c:\\users\\red\\appdata\\local\\programs\\python\\python310\\lib\\site-packages (from gtts) (2.27.1)\n",
      "Requirement already satisfied: click in c:\\users\\red\\appdata\\local\\programs\\python\\python310\\lib\\site-packages (from gtts) (8.0.3)\n",
      "Requirement already satisfied: six in c:\\users\\red\\appdata\\local\\programs\\python\\python310\\lib\\site-packages (from gtts) (1.16.0)\n",
      "Requirement already satisfied: colorama in c:\\users\\red\\appdata\\local\\programs\\python\\python310\\lib\\site-packages (from click->gtts) (0.4.4)\n",
      "Requirement already satisfied: certifi>=2017.4.17 in c:\\users\\red\\appdata\\local\\programs\\python\\python310\\lib\\site-packages (from requests->gtts) (2021.10.8)\n",
      "Requirement already satisfied: charset-normalizer~=2.0.0 in c:\\users\\red\\appdata\\local\\programs\\python\\python310\\lib\\site-packages (from requests->gtts) (2.0.10)\n",
      "Requirement already satisfied: urllib3<1.27,>=1.21.1 in c:\\users\\red\\appdata\\local\\programs\\python\\python310\\lib\\site-packages (from requests->gtts) (1.26.8)\n",
      "Requirement already satisfied: idna<4,>=2.5 in c:\\users\\red\\appdata\\local\\programs\\python\\python310\\lib\\site-packages (from requests->gtts) (3.3)\n"
     ]
    }
   ],
   "source": [
    "# !pip install gtts\n",
    "!pip install gtts"
   ]
  },
  {
   "cell_type": "code",
   "execution_count": 36,
   "id": "8cdeff5a",
   "metadata": {},
   "outputs": [],
   "source": [
    "# Language in which you want to convert\n",
    "language = 'en'\n",
    "\n",
    "\n",
    "# The text that you want to convert to audio\n",
    "text_to_convert = '''\n",
    "---\n",
    "Understanding Variables and Data Types in python\n",
    "\n",
    "Now that you know How To Install Python and execute code. It's time to dig into the Python language. \n",
    "First up is a discussion about variables, expressions and data types to define each element.\n",
    "Next, you will get an overview of Python syntax, variables, data types, operators.\n",
    "\n",
    "\n",
    "A Variable in python is nothing but reserved memory location to store differents types of values.\n",
    "An Operator is a symbol that performs an operation on one or more operands. \n",
    "An Operand is a variable or a value on which we perform the operation. \n",
    "An Expression is a combinaison of Operators and Operands.\n",
    "Let's take this example to understand variables assignement:\n",
    "\n",
    "\n",
    "'''"
   ]
  },
  {
   "cell_type": "code",
   "execution_count": 37,
   "id": "ae3246d4",
   "metadata": {},
   "outputs": [],
   "source": [
    "# Import the required module for text to speech conversion\n",
    "from gtts import gTTS\n",
    "from io import BytesIO\n",
    "import os\n",
    "  \n",
    "# Passing the text and language to the engine, slow=False for a high speed\n",
    "myobj = gTTS(text=text_to_convert,\n",
    "             lang=language,\n",
    "             slow=False)\n",
    "  "
   ]
  },
  {
   "cell_type": "code",
   "execution_count": 38,
   "id": "2322f174",
   "metadata": {},
   "outputs": [],
   "source": [
    "# Saving the converted audio in a mp3 file named story_draf.mp3\n",
    "myobj.save(\"stoty_draft.mp3\")"
   ]
  },
  {
   "cell_type": "code",
   "execution_count": 14,
   "id": "e6307687",
   "metadata": {},
   "outputs": [],
   "source": [
    "# Playing the converted file\n",
    "os.system(\"story_draft.mp3\")"
   ]
  },
  {
   "cell_type": "code",
   "execution_count": null,
   "id": "0da14ce7",
   "metadata": {},
   "outputs": [],
   "source": []
  }
 ],
 "metadata": {
  "kernelspec": {
   "display_name": "Python 3 (ipykernel)",
   "language": "python",
   "name": "python3"
  },
  "language_info": {
   "codemirror_mode": {
    "name": "ipython",
    "version": 3
   },
   "file_extension": ".py",
   "mimetype": "text/x-python",
   "name": "python",
   "nbconvert_exporter": "python",
   "pygments_lexer": "ipython3",
   "version": "3.10.2"
  }
 },
 "nbformat": 4,
 "nbformat_minor": 5
}
